{
 "cells": [
  {
   "cell_type": "markdown",
   "id": "d0439cb0",
   "metadata": {},
   "source": [
    "# AI Model Transparency - Environment Test\n",
    "\n",
    "This notebook tests that all required packages are properly installed and working."
   ]
  },
  {
   "cell_type": "code",
   "execution_count": null,
   "id": "2de4fada",
   "metadata": {},
   "outputs": [],
   "source": [
    "# Test all package imports\n",
    "import pandas as pd\n",
    "import numpy as np\n",
    "import sklearn\n",
    "import xgboost as xgb\n",
    "import shap\n",
    "import lime\n",
    "import matplotlib.pyplot as plt\n",
    "import yaml\n",
    "\n",
    "print(\"✅ All packages imported successfully!\")\n",
    "print(f\"Pandas version: {pd.__version__}\")\n",
    "print(f\"NumPy version: {np.__version__}\")\n",
    "print(f\"Scikit-learn version: {sklearn.__version__}\")\n",
    "print(f\"XGBoost version: {xgb.__version__}\")\n",
    "print(f\"SHAP version: {shap.__version__}\")\n",
    "print(f\"LIME version: {lime.__version__}\")"
   ]
  },
  {
   "cell_type": "code",
   "execution_count": null,
   "id": "38945263",
   "metadata": {},
   "outputs": [],
   "source": [
    "# Test matplotlib plotting\n",
    "import matplotlib.pyplot as plt\n",
    "import numpy as np\n",
    "\n",
    "# Create a simple test plot\n",
    "x = np.linspace(0, 10, 100)\n",
    "y = np.sin(x)\n",
    "\n",
    "plt.figure(figsize=(8, 5))\n",
    "plt.plot(x, y, 'b-', linewidth=2)\n",
    "plt.title('Test Plot - Environment Setup Successful!')\n",
    "plt.xlabel('X values')\n",
    "plt.ylabel('sin(x)')\n",
    "plt.grid(True, alpha=0.3)\n",
    "plt.show()\n",
    "\n",
    "print(\"✅ Matplotlib plotting works!\")"
   ]
  },
  {
   "cell_type": "code",
   "execution_count": null,
   "id": "3ca9af5f",
   "metadata": {},
   "outputs": [],
   "source": [
    "# Test pandas with sample data\n",
    "import pandas as pd\n",
    "import numpy as np\n",
    "\n",
    "# Create sample data\n",
    "data = {\n",
    "    'feature_1': np.random.randn(100),\n",
    "    'feature_2': np.random.randn(100),\n",
    "    'target': np.random.choice([0, 1], 100)\n",
    "}\n",
    "\n",
    "df = pd.DataFrame(data)\n",
    "print(\"Sample DataFrame:\")\n",
    "print(df.head())\n",
    "print(f\"\\nDataFrame shape: {df.shape}\")\n",
    "print(\"\\n✅ Pandas DataFrame operations work!\")"
   ]
  },
  {
   "cell_type": "code",
   "execution_count": null,
   "id": "7676e530",
   "metadata": {},
   "outputs": [],
   "source": [
    "# Test XGBoost with sample model\n",
    "from sklearn.model_selection import train_test_split\n",
    "from sklearn.datasets import make_classification\n",
    "import xgboost as xgb\n",
    "\n",
    "# Generate sample data\n",
    "X, y = make_classification(n_samples=1000, n_features=10, n_informative=5, random_state=42)\n",
    "X_train, X_test, y_train, y_test = train_test_split(X, y, test_size=0.2, random_state=42)\n",
    "\n",
    "# Train XGBoost model\n",
    "model = xgb.XGBClassifier(random_state=42)\n",
    "model.fit(X_train, y_train)\n",
    "\n",
    "# Make predictions\n",
    "predictions = model.predict(X_test)\n",
    "accuracy = (predictions == y_test).mean()\n",
    "\n",
    "print(f\"XGBoost model accuracy: {accuracy:.3f}\")\n",
    "print(\"✅ XGBoost training and prediction work!\")"
   ]
  },
  {
   "cell_type": "markdown",
   "id": "c2cb5247",
   "metadata": {},
   "source": [
    "## Environment Setup Complete! 🎉\n",
    "\n",
    "If all cells above ran without errors, your AI Model Transparency environment is ready for:\n",
    "\n",
    "- **Data Analysis** with pandas and numpy\n",
    "- **Machine Learning** with scikit-learn and XGBoost\n",
    "- **Model Interpretability** with SHAP and LIME\n",
    "- **Visualization** with matplotlib\n",
    "- **Configuration** with PyYAML\n",
    "\n",
    "You can now start building your AI transparency and explainability projects!"
   ]
  }
 ],
 "metadata": {
  "language_info": {
   "name": "python"
  }
 },
 "nbformat": 4,
 "nbformat_minor": 5
}
